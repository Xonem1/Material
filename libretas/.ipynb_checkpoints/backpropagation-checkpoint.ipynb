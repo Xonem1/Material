{
 "cells": [
  {
   "cell_type": "markdown",
   "metadata": {},
   "source": [
    "<p><img src=\"imagenes/letragrama-rgb-150.jpg\" width=\"380\" align=\"left\"><img src=\"imagenes/logoLCCazul.jpg\" width=\"170\" align=\"right\"></p>"
   ]
  },
  {
   "cell_type": "markdown",
   "metadata": {},
   "source": [
    "\n",
    "# [Curso de Redes Neuronales](https://curso-redes-neuronales-unison.github.io/Temario/)\n",
    "\n",
    "# Aprendizaje en redes neuronales: El algoritmo de *backpropagation*\n",
    "\n",
    "[**Julio Waissman Vilanova**](http://mat.uson.mx/~juliowaissman/), 18 de septiembre de 2017.\n",
    "\n",
    "En esta libreta vamos a practicar y revisar el principal algoritmo de aprendizaje de los pesos de una  red neuronal hacia adelante. Todos los algoritmos más sofisticados son versiones y modificaciones al algoritmo de *backpropagation* o *B-prop*. Para aplicaciones reales vamos autilizar herramientas poderosas como [Tensorflow](https://www.tensorflow.org) o [Theano](http://www.deeplearning.net/software/theano/), pero es importante conocer y saber desarrollar el algoritmo básico para entender como funciona el aprendizaje en general en redes neuronales.\n",
    "\n",
    "Vamos a asumir que todos han realizado la libreta anterior donde desarrollaron una estructura básica de una red neuronal, así como el algoritmo de reconocimiento, o *feedforward*. Para una explicacion de la estructura, es necesario que se remitan a la libreta anterior. Sin embarog resumirenos los pasos principales:\n",
    "\n",
    "\n",
    "\n",
    "Empecemos por inicializar los modulos que vamos a requerir, así como las funciones desarrolladas en otras libretas para el calculo en feedforward de redes neuronales artificiales."
   ]
  },
  {
   "cell_type": "code",
   "execution_count": 1,
   "metadata": {},
   "outputs": [],
   "source": [
    "import numpy as np\n",
    "from feedforward import *"
   ]
  },
  {
   "cell_type": "markdown",
   "metadata": {},
   "source": [
    "Las funciones ya programadas las dejamos en un archivo adjunto que se llama `feedforward.py` el cual contiene las operaciones que se desarrollaron anteriormente y que agregarlas en esta libreta metería más ruido de lo que ayudaría a la comprensión. El archivo se encuentra adjunto y eres libre de consultarlo y revisarlo. En este caso nos comportamos muy poco formales y cargamos todas las funciones en el espacio de trabajo principal. Esto es porque vamos a hacer de cuenta que las acabamos de programar.\n",
    "\n",
    "En las libretas de *Jupyter*, cuando quieres consultar la documentación de una función utilizas la combinación de teclas *shift*-*tab*. Si lo haces una vez aparece únicamente el docstring en una ventana emergente. Si utilizas *shift*-*tab* dos veces, aparece la documentación extendida (si hay), y con 3 veces la documentación completa pero en ventana emergente. Con 4 veces la documentación completa aparece en un *frame* abajo y se mantiene mientras tecleas, hasta que se cierre. Este ultimo es especialmente útil para revisar documentación de una función mientras decide uno como utilizarla.\n",
    "\n",
    "#### Ejercicio 1: Revisa la documentación de las funciones que se listan a continuación, ya que las vamos a estar utilizando."
   ]
  },
  {
   "cell_type": "code",
   "execution_count": 2,
   "metadata": {},
   "outputs": [
    {
     "data": {
      "text/plain": [
       "<function feedforward.perdida_red>"
      ]
     },
     "execution_count": 2,
     "metadata": {},
     "output_type": "execute_result"
    }
   ],
   "source": [
    "## Revisa la documentación de cada uno de las soguientes funciones\n",
    "\n",
    "inicializa_red_neuronal\n",
    "logistica\n",
    "extendida\n",
    "feedforward\n",
    "perdida\n",
    "perdida_red"
   ]
  },
  {
   "cell_type": "markdown",
   "metadata": {
    "collapsed": true
   },
   "source": [
    "Como puedes ver las funciones anteriores (que puedes consultar en el archivo `feedforard.py`), nos permiten definir una red neuronal, estimar la salida para un conjunto de datos, así como estimar la función de pérdda con el mismo, u otro conjunto de datos.\n",
    "\n",
    "## El algortmo de *backpropagation*\n",
    "\n",
    "La derivada parcial de la función de pérdida respecto a cada uno de los pesos (por lo tanto el gradiente de la función de pérdida respecto al vector de todos los pesos) se obtiene mediante el algoritmo de backpropagarion. Una vez que se conoce esto, entonces es posible utilizar el resultado para optimizar los pesos mediente el método de descenso de gradiente o una variente similar.\n",
    "\n",
    "El algoritmo de *backpropagation* (de hecho en los últimos años se conoce como *b-prop*, y solo los rucos decimos *backpropagation*) es el siguiente:\n",
    "\n",
    "1. Calcular el vector $\\delta^{(L)}$ para todos los datos a partir de $A^{L}$, $Y$ y el tipo de salida. Si utilizamos la función de pérdida correcta para cada tipo de salida, entonces esto se calcula en forma muy sencilla, tal como vimos en clases de la forma $$\\delta^{(L)} = Y^T - A^{(L)}.$$\n",
    "\n",
    "2. Para $l$ de $L-1$ hasta 1 con decrementos de $-1$:\n",
    "    1. Calcular $\\delta^{(l)}$ a partir de $\\delta^{(l+1)}$, $W^{(l+1)}$ y $A^{(l)}$ como\n",
    "       $$\n",
    "       \\delta^{(l)} = A^{(l)} \\star (\\vec{1} - A^{(l)}) \\star (r(W^{(l+1)})^T \\delta^{(l+1)}), \n",
    "       $$\n",
    "       donde $\\star$ es la multiplicación elemento a elemento de dos matrices, $\\vec(1)$ es una matriz con 1 en todos sus elementos y $r(\\cdot)$ es una función que elimina la primer columna de una matriz.\n",
    "    2. Calcular la derivada en cada uno de los pesos como\n",
    "       $$\n",
    "       \\frac{\\partial J(W)}{w_{ij}^{(l)}} = \\frac{1}{card(CA)}\\sum_{\\forall (x,y) \\in CA} a_j^{(l-1)} \\delta_i^{(l)},\n",
    "       $$\n",
    "       para lo cual vimos como realizarlo en forma matricial y eficiente en clases.\n",
    "       \n",
    "El desarrollo del algoritmo y los pasos en forma matricial se vieron con detalle en clase, por lo que aqui solo se da un pequeñño bosquejo esperando que se programe correctamente.\n",
    "\n",
    "#### Ejercicio 1: Completa el código de la función de backpropagation (20 puntos).\n"
   ]
  },
  {
   "cell_type": "code",
   "execution_count": 3,
   "metadata": {},
   "outputs": [],
   "source": [
    "# La función `r`, cambiada como `r_fun` para evitar confuciones \n",
    "def r_fun(matriz):\n",
    "    return matriz[:, 1:]\n",
    "\n",
    "def backpropagation(Y, A, rn):\n",
    "    \"\"\"\n",
    "    Calcula el gradiente de los pesos de una red neuronal\n",
    "    \n",
    "    Parametros\n",
    "    -----------\n",
    "    Y: ndarray de shape (N, k) donde N es el número de ejemplos y k el número de salidas\n",
    "    \n",
    "    A: Una lista de matrices de activaciones por capas, obtenidas por la función `feedforward`,\n",
    "       en donde A[l] es un ndarray de shape (nl, N), donde N es el número de ejemplos evaluados \n",
    "       y nl es el número de neuronas de la capa l de rn.\n",
    "\n",
    "    rn: Estructura de datos de una red neuronal inicializada con la función \n",
    "        `inicializa_red_neuronal`\n",
    "    \n",
    "    Devuelve\n",
    "    --------\n",
    "    Una lista de gradientes [None, gW1, gW2, ..., gWL], donde cada gWl es un ndarray tal que \n",
    "    rn['W'][l].shape == gWl.shape\n",
    "             \n",
    "    \"\"\"    \n",
    "    # Numero de ejemplos\n",
    "    N = Y.shape[0]\n",
    "    \n",
    "    # Inicializa la lista de gradientes en 0\n",
    "    gradientes = [None] + [np.zeros_like(Wl) for Wl in rn['W'][1:]]\n",
    "\n",
    "    # Calcula Delta para la capa de salida\n",
    "    delta = Y.T - A[-1]\n",
    "    \n",
    "    #Calcula el gradiente de los pesos de la última capa\n",
    "    gradientes[-1] = -delta.dot(extendida(A[-2]).T) / N\n",
    "    \n",
    "    # Despues vamos a hacer lo propio por cada capa hasta antes de la última\n",
    "    for l in range(rn['capas'] - 2, 0, -1):         \n",
    "        \n",
    "        # Calcula la delta para la capa anterior.        \n",
    "        # ----------Agregar código aqui -----------------\n",
    "        delta = A[l] * (1 - A[l]) * (r_fun(rn['W'][l + 1]).T.dot(delta))\n",
    "        \n",
    "        \n",
    "        # Calcula el gradiente para los pesos de la capa anterior.        \n",
    "        # ----------Agregar código aqui -----------------\n",
    "        gradientes[l] = -delta.dot(extendida(A[l-1]).T) / N\n",
    "                \n",
    "    return gradientes\n"
   ]
  },
  {
   "cell_type": "markdown",
   "metadata": {},
   "source": [
    "## Revisar y corregir código de aprendizaje máquina\n",
    "\n",
    "El problema con este tipo de algoritmos es que, a la hora de codificarlos, es muy típico que se tengan errores, tanto de concepto como de codificación. Sin embargo, como estos algortimos se utilizan para aprender, y al utilizar un conjunto inicial de pesos aleatorio diferente, los resultados no son verificables. Es muy común tener un error muy tonto y pasar muchas horas (o días) intentando corregirlo.\n",
    "\n",
    "Por esta razón, siempre hay que hacer métodos que nos permitan chacar que el algortimo parece funcionar correctamente. Para eso, vamos a programar una forma alternativa de calcular una aproximación del gradiente en forma numérica. Este algortimo de fuerza bruta es altamente ineficiente y no puede ser utilizada dentro de un método de optimización pero nos sirve para revisar si existen errores que podríamos haber ingresado en nuestro algoritmo.\n",
    "\n",
    "El método se basa en el calculo numérico de una derivada parcial como:\n",
    "\n",
    "$$\n",
    "  \\left.\\frac{\\partial f(x)}{\\partial x}\\right|_{x = x_0} \\approx \\frac{f(x_0 + \\epsilon) - f(x_0 - \\epsilon)}{2 \\epsilon}.  \n",
    "$$\n",
    "\n",
    "Entonces, si queremos estimar el gradiente de la función de pérdida respecto a los pesos, hay que calcular esta razón por cada uno de los pesos, por cada una de las capas. Esto no es nada eficiente y mucho menos elegante (como el *b-prop*) pero es un método de validación.\n",
    "\n",
    "#### Ejercicio: Completa el código de la función de gradiente numérico."
   ]
  },
  {
   "cell_type": "code",
   "execution_count": 4,
   "metadata": {
    "collapsed": true
   },
   "outputs": [],
   "source": [
    "def gradiente_numerico(X, Y, rn, epsilon=1e-3):\n",
    "    \"\"\"\n",
    "    Calcula el gradiente numérico para efectos de prueba del algoritmo de backpropagation.\n",
    "    Este algortimo se realiza expresamente de manera ineficiente pero clara, ya que su\n",
    "    funcionamiento debe de ser lo más claro posible.\n",
    "    \n",
    "    Parámetros\n",
    "    ----------\n",
    "    X: ndarray de shape (T, n) donde T es el número de ejemplos y n el número de atributos\n",
    "    Y: ndarray de shape (T, k) donde k es el número de salidas\n",
    "    rn: Estructura de datos de una red neuronal inicializada con la función `inicializa_red_neuronal``\n",
    "    epsilon: Un número flotante positivo, típicamente muy pequeño\n",
    " \n",
    "    Devuelve\n",
    "    --------\n",
    "    Una lista de gradientes de red_neuronal['W'] con la misma estructura y dimensión\n",
    "    \n",
    "    \"\"\"\n",
    "    # inicializa los gradientes a cero\n",
    "    gradientes = [None] + [np.ones_like(Wl) for Wl in rn['W'][1:]]\n",
    "    \n",
    "    for l in range(1,rn['capas']):                #  Por cada capa l\n",
    "        for i in range(rn['W'][l].shape[0]):          #  Por cada renglon i\n",
    "            for j in range(rn['W'][l].shape[1]):      #  Por cada columna j\n",
    "                # -------------------------------------------\n",
    "                # Insertar código aquí\n",
    "                # -------------------------------------------\n",
    "                rn['W'][l][i, j] -= epsilon\n",
    "                f_1 = perdida_red(Y, X, rn)\n",
    "                rn['W'][l][i, j] += 2*epsilon\n",
    "                f_2 = perdida_red(Y, X, rn)\n",
    "                rn['W'][l][i, j] -= epsilon\n",
    "                gradientes[l][i, j] = (f_2 - f_1) / (2 * epsilon)                \n",
    "                # --------------------------------------------\n",
    "    return gradientes           \n",
    "    "
   ]
  },
  {
   "cell_type": "markdown",
   "metadata": {},
   "source": [
    "Ahora vamos a hacer una función de prueba utilizando un conjunto de datos reales (o un subconjunto de estos), y lo vamos a hacer para muchas posibles reinicializaciones de pesos. Este código va a servir para corregir ambos algoritmos de calculo de gradiente.  Para esto vamos a utilizar una base de datos ya conocida, la de dígitos, utilizada en la libreta de regresión softmax."
   ]
  },
  {
   "cell_type": "code",
   "execution_count": 5,
   "metadata": {
    "collapsed": true
   },
   "outputs": [],
   "source": [
    "# Datos a utilizar para la prueba\n",
    "# para no tener que estarlos cargando de nuevo cada vez\n",
    "\n",
    "# Vamos a utilizar un subconkunto de datos y de atributos\n",
    "# para que pueda funcionar el gradiente numérico en un tiempo \n",
    "# aceptable\n",
    "\n",
    "\n",
    "data = np.load(\"datos/digitos.npz\")\n",
    "x_prueba = data['X_entrena'][:100,:10]  # Solo 100 datos y 10 parámetros\n",
    "y_prueba = data['T_entrena'][:100,:]    # Todas las clases de los primeros 100 datos\n"
   ]
  },
  {
   "cell_type": "markdown",
   "metadata": {},
   "source": [
    "Favor de no seguir más allá en la programación de la red neuronal hasta estar seguro que esto funcione correctamente."
   ]
  },
  {
   "cell_type": "code",
   "execution_count": 6,
   "metadata": {},
   "outputs": [
    {
     "name": "stdout",
     "output_type": "stream",
     "text": [
      "Tipo: lineal, Neuronas: [10, 10, 10]\n",
      "Máxima diferencia entre métodos de gradiente: 9.119976995819457e-11\n",
      "Tipo: lineal, Neuronas: [10, 10, 10]\n",
      "Máxima diferencia entre métodos de gradiente: 8.479812685369126e-11\n",
      "Tipo: lineal, Neuronas: [10, 10, 10]\n",
      "Máxima diferencia entre métodos de gradiente: 8.254691374887102e-11\n",
      "Tipo: lineal, Neuronas: [10, 10, 10]\n",
      "Máxima diferencia entre métodos de gradiente: 6.421295439817953e-11\n",
      "Tipo: lineal, Neuronas: [10, 10, 10]\n",
      "Máxima diferencia entre métodos de gradiente: 7.62242768903576e-11\n",
      "Tipo: logistica, Neuronas: [10, 10, 10]\n",
      "Máxima diferencia entre métodos de gradiente: 1.0372702696770375e-10\n",
      "Tipo: logistica, Neuronas: [10, 10, 10]\n",
      "Máxima diferencia entre métodos de gradiente: 1.304180097250196e-10\n",
      "Tipo: logistica, Neuronas: [10, 10, 10]\n",
      "Máxima diferencia entre métodos de gradiente: 1.0441958409046492e-10\n",
      "Tipo: logistica, Neuronas: [10, 10, 10]\n",
      "Máxima diferencia entre métodos de gradiente: 1.1594702975514792e-10\n",
      "Tipo: logistica, Neuronas: [10, 10, 10]\n",
      "Máxima diferencia entre métodos de gradiente: 7.634598508943213e-11\n",
      "Tipo: softmax, Neuronas: [10, 10, 10]\n",
      "Máxima diferencia entre métodos de gradiente: 0.0900000000000001\n",
      "Gradiente: \n",
      "[[-0.09       -0.04226398 -0.04155622 -0.04353632 -0.048188   -0.04691705\n",
      "  -0.04167896 -0.04123727 -0.04402873 -0.04128902 -0.04877498]\n",
      " [-0.09       -0.04190732 -0.04085088 -0.04146715 -0.05049151 -0.0471032\n",
      "  -0.0403927  -0.04096136 -0.04539932 -0.04180499 -0.05027903]\n",
      " [-0.09       -0.04174004 -0.04194918 -0.04384547 -0.04802265 -0.0476535\n",
      "  -0.04076363 -0.0412993  -0.04462642 -0.04090172 -0.04795807]\n",
      " [-0.09       -0.04073725 -0.04163896 -0.04508331 -0.0472124  -0.04417674\n",
      "  -0.04061953 -0.04136478 -0.04377788 -0.04034056 -0.0484401 ]\n",
      " [-0.09       -0.0425164  -0.04037295 -0.04143343 -0.0505014  -0.04784311\n",
      "  -0.04073672 -0.04091641 -0.04478121 -0.04156147 -0.05023224]\n",
      " [-0.09       -0.04242675 -0.04135356 -0.04357755 -0.04818718 -0.04747337\n",
      "  -0.04188344 -0.04095336 -0.04393116 -0.04120329 -0.04899488]\n",
      " [-0.09       -0.04278282 -0.04091031 -0.04133125 -0.04995834 -0.04788372\n",
      "  -0.0418468  -0.04108819 -0.04506973 -0.04235339 -0.05014684]\n",
      " [-0.09       -0.04219128 -0.04096457 -0.04369204 -0.04865687 -0.04642577\n",
      "  -0.04077912 -0.04121513 -0.04343111 -0.04119275 -0.04916458]\n",
      " [-0.09       -0.04215538 -0.04203339 -0.04347035 -0.04788925 -0.04745663\n",
      "  -0.04184162 -0.04157681 -0.04428471 -0.04134043 -0.04820334]\n",
      " [-0.09       -0.04201826 -0.04187311 -0.04622362 -0.04500324 -0.04773704\n",
      "  -0.04262754 -0.04136646 -0.0418449  -0.04031132 -0.04665182]]\n",
      "Gradiente Numérico: \n",
      "[[  0.00000000e+00  -1.87047915e-04  -2.18708505e-04  -2.05546287e-04\n",
      "    2.60671875e-04   1.49207664e-04  -3.73977680e-04  -4.15246859e-05\n",
      "    1.05324798e-04  -4.70757522e-05   1.35930573e-04]\n",
      " [  0.00000000e+00   1.61539138e-04   5.21637320e-04   1.93666741e-03\n",
      "   -2.11943474e-03  -2.75413337e-05   9.33393327e-04   2.39092515e-04\n",
      "   -1.28708805e-03  -5.89248113e-04  -1.42782106e-03]\n",
      " [  0.00000000e+00   3.34546120e-04  -5.93283342e-04  -4.55424862e-04\n",
      "    3.60434140e-04  -5.82891024e-04   5.65297387e-04  -9.91779325e-05\n",
      "   -5.27393693e-04   3.21259899e-04   9.08319460e-04]\n",
      " [  0.00000000e+00   1.34230815e-03  -2.84058705e-04  -1.71916471e-03\n",
      "    1.19578060e-03   2.90401063e-03   7.06381704e-04  -1.66211143e-04\n",
      "    3.42003612e-04   8.91914458e-04   4.40341652e-04]\n",
      " [  0.00000000e+00  -4.35386975e-04   9.62575570e-04   1.91718338e-03\n",
      "   -2.08011180e-03  -7.84043372e-04   5.90080584e-04   2.81463817e-04\n",
      "   -6.75211886e-04  -3.23430527e-04  -1.33055191e-03]\n",
      " [  0.00000000e+00  -3.51234797e-04  -8.51704041e-06  -2.13355493e-04\n",
      "    2.26424528e-04  -4.08337564e-04  -5.66007752e-04   2.42945108e-04\n",
      "    1.81851387e-04   2.69186806e-05  -1.05703086e-04]\n",
      " [  0.00000000e+00  -6.99907576e-04   4.38201329e-04   2.02199403e-03\n",
      "   -1.53926876e-03  -8.04786917e-04  -5.19608787e-04   1.08336136e-04\n",
      "   -9.49002850e-04  -1.11648695e-03  -1.25474954e-03]\n",
      " [  0.00000000e+00  -1.23908195e-04   3.90064332e-04  -3.20094498e-04\n",
      "   -2.50013232e-04   6.30613473e-04   5.30926996e-04  -1.25107524e-05\n",
      "    6.86632209e-04   3.33739614e-05  -2.87300548e-04]\n",
      " [  0.00000000e+00  -9.03390651e-05  -6.61730284e-04  -8.60030180e-05\n",
      "    5.05394522e-04  -3.88167933e-04  -5.29849640e-04  -3.74090297e-04\n",
      "   -1.54131596e-04  -1.20079120e-04   6.57296382e-04]\n",
      " [  0.00000000e+00   3.60170072e-05  -5.02300268e-04  -2.81747487e-03\n",
      "    3.37656319e-03  -6.85674895e-04  -1.32598444e-03  -1.63864806e-04\n",
      "    2.27381818e-03   8.98936414e-04   2.20080968e-03]]\n"
     ]
    },
    {
     "ename": "AssertionError",
     "evalue": "",
     "output_type": "error",
     "traceback": [
      "\u001b[0;31m---------------------------------------------------------------------------\u001b[0m",
      "\u001b[0;31mAssertionError\u001b[0m                            Traceback (most recent call last)",
      "\u001b[0;32m<ipython-input-6-06c026655595>\u001b[0m in \u001b[0;36m<module>\u001b[0;34m()\u001b[0m\n\u001b[1;32m     30\u001b[0m     \u001b[0;32mreturn\u001b[0m \u001b[0;34m\"Paso la prueba\"\u001b[0m\u001b[0;34m\u001b[0m\u001b[0m\n\u001b[1;32m     31\u001b[0m \u001b[0;34m\u001b[0m\u001b[0m\n\u001b[0;32m---> 32\u001b[0;31m \u001b[0mprint\u001b[0m\u001b[0;34m(\u001b[0m\u001b[0mprueba_gradiente\u001b[0m\u001b[0;34m(\u001b[0m\u001b[0mx_prueba\u001b[0m\u001b[0;34m,\u001b[0m \u001b[0my_prueba\u001b[0m\u001b[0;34m)\u001b[0m\u001b[0;34m)\u001b[0m\u001b[0;34m\u001b[0m\u001b[0m\n\u001b[0m\u001b[1;32m     33\u001b[0m \u001b[0;34m\u001b[0m\u001b[0m\n",
      "\u001b[0;32m<ipython-input-6-06c026655595>\u001b[0m in \u001b[0;36mprueba_gradiente\u001b[0;34m(X, Y)\u001b[0m\n\u001b[1;32m     27\u001b[0m                         \u001b[0mprint\u001b[0m\u001b[0;34m(\u001b[0m\u001b[0;34m'Gradiente Numérico: \\n{}'\u001b[0m\u001b[0;34m.\u001b[0m\u001b[0mformat\u001b[0m\u001b[0;34m(\u001b[0m\u001b[0mgradientes_numericos\u001b[0m\u001b[0;34m[\u001b[0m\u001b[0;34m-\u001b[0m\u001b[0;36m1\u001b[0m\u001b[0;34m]\u001b[0m\u001b[0;34m)\u001b[0m\u001b[0;34m)\u001b[0m\u001b[0;34m\u001b[0m\u001b[0m\n\u001b[1;32m     28\u001b[0m \u001b[0;34m\u001b[0m\u001b[0m\n\u001b[0;32m---> 29\u001b[0;31m                     \u001b[0;32massert\u001b[0m \u001b[0mmax\u001b[0m\u001b[0;34m(\u001b[0m\u001b[0mdiferencias\u001b[0m\u001b[0;34m)\u001b[0m \u001b[0;34m<\u001b[0m \u001b[0;36m1e-3\u001b[0m\u001b[0;34m\u001b[0m\u001b[0m\n\u001b[0m\u001b[1;32m     30\u001b[0m     \u001b[0;32mreturn\u001b[0m \u001b[0;34m\"Paso la prueba\"\u001b[0m\u001b[0;34m\u001b[0m\u001b[0m\n\u001b[1;32m     31\u001b[0m \u001b[0;34m\u001b[0m\u001b[0m\n",
      "\u001b[0;31mAssertionError\u001b[0m: "
     ]
    }
   ],
   "source": [
    "def prueba_gradiente(X, Y):\n",
    "    \"\"\"\n",
    "    Unidad de prueba de backpropagation\n",
    "    \n",
    "    \"\"\"\n",
    "    n0 = X.shape[1]\n",
    "    nL = Y.shape[1]\n",
    "    \n",
    "    for ocultas in [1, 2, 3]: \n",
    "        for neuronas in [1, 2]:\n",
    "            for tipo in ['lineal', 'logistica', 'softmax']:\n",
    "                for prueba in range(5):\n",
    "                    # print \"Tipo: \", tipo, \", capas ocultas: \", ocultas, \", neuronas en capas ocultas: \", neuronas * n0\n",
    "                    rn = inicializa_red_neuronal(ocultas + 2, \n",
    "                                                 [n0] + (ocultas * [neuronas * n0]) + [nL],\n",
    "                                                 tipo)\n",
    "                    A = feedforward(X, rn)\n",
    "                    gradientes = backpropagation(Y, A, rn)\n",
    "                    gradientes_numericos = gradiente_numerico(X, Y, rn, 1e-4)\n",
    "                    diferencias = [np.abs(g - gn).max() \n",
    "                                   for (g, gn) in zip(gradientes[1:], \n",
    "                                                      gradientes_numericos[1:])]\n",
    "                    print(\"Tipo: {}, Neuronas: {}\".format(rn['tipo'], rn['nxc']))\n",
    "                    print(\"Máxima diferencia entre métodos de gradiente: {}\".format(max(diferencias)))\n",
    "                    if max(diferencias) > 1e-3:\n",
    "                        print('Gradiente: \\n{}'.format(gradientes[-1]))\n",
    "                        print('Gradiente Numérico: \\n{}'.format(gradientes_numericos[-1]))\n",
    "\n",
    "                    assert max(diferencias) < 1e-3\n",
    "    return \"Paso la prueba\"\n",
    "\n",
    "print(prueba_gradiente(x_prueba, y_prueba))\n",
    "\n"
   ]
  }
 ],
 "metadata": {
  "kernelspec": {
   "display_name": "Python 3",
   "language": "python",
   "name": "python3"
  },
  "language_info": {
   "codemirror_mode": {
    "name": "ipython",
    "version": 3
   },
   "file_extension": ".py",
   "mimetype": "text/x-python",
   "name": "python",
   "nbconvert_exporter": "python",
   "pygments_lexer": "ipython3",
   "version": "3.6.1"
  }
 },
 "nbformat": 4,
 "nbformat_minor": 2
}
