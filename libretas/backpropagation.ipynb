{
 "cells": [
  {
   "cell_type": "markdown",
   "metadata": {},
   "source": [
    "<p><img src=\"imagenes/letragrama-rgb-150.jpg\" width=\"380\" align=\"left\"><img src=\"imagenes/logoLCCazul.jpg\" width=\"170\" align=\"right\"></p>"
   ]
  },
  {
   "cell_type": "markdown",
   "metadata": {},
   "source": [
    "\n",
    "# [Curso de Redes Neuronales](https://curso-redes-neuronales-unison.github.io/Temario/)\n",
    "\n",
    "# Aprendizaje en redes neuronales: El algoritmo de *backpropagation*\n",
    "\n",
    "[**Julio Waissman Vilanova**](http://mat.uson.mx/~juliowaissman/), 18 de septiembre de 2017.\n",
    "\n",
    "En esta libreta vamos a practicar y revisar el principal algoritmo de aprendizaje de los pesos de una  red neuronal hacia adelante. Todos los algoritmos más sofisticados son versiones y modificaciones al algoritmo de *backpropagation* o *B-prop*. Para aplicaciones reales vamos autilizar herramientas poderosas como [Tensorflow](https://www.tensorflow.org) o [Theano](http://www.deeplearning.net/software/theano/), pero es importante conocer y saber desarrollar el algoritmo básico para entender como funciona el aprendizaje en general en redes neuronales.\n",
    "\n",
    "Vamos a asumir que todos han realizado la libreta anterior donde desarrollaron una estructura básica de una red neuronal, así como el algoritmo de reconocimiento, o *feedforward*. Para una explicacion de la estructura, es necesario que se remitan a la libreta anterior. Sin embarog resumirenos los pasos principales:\n",
    "\n",
    "\n",
    "\n",
    "Empecemos por inicializar los modulos que vamos a requerir, así como las funciones desarrolladas en otras libretas para el calculo en feedforward de redes neuronales artificiales."
   ]
  },
  {
   "cell_type": "code",
   "execution_count": 1,
   "metadata": {},
   "outputs": [],
   "source": [
    "import numpy as np\n",
    "from feedforward import *"
   ]
  },
  {
   "cell_type": "markdown",
   "metadata": {},
   "source": [
    "Las funciones ya programadas las dejamos en un archivo adjunto que se llama `feedforward.py` el cual contiene las operaciones que se desarrollaron anteriormente y que agregarlas en esta libreta metería más ruido de lo que ayudaría a la comprensión. El archivo se encuentra adjunto y eres libre de consultarlo y revisarlo. En este caso nos comportamos muy poco formales y cargamos todas las funciones en el espacio de trabajo principal. Esto es porque vamos a hacer de cuenta que las acabamos de programar.\n",
    "\n",
    "En las libretas de *Jupyter*, cuando quieres consultar la documentación de una función utilizas la combinación de teclas *shift*-*tab*. Si lo haces una vez aparece únicamente el docstring en una ventana emergente. Si utilizas *shift*-*tab* dos veces, aparece la documentación extendida (si hay), y con 3 veces la documentación completa pero en ventana emergente. Con 4 veces la documentación completa aparece en un *frame* abajo y se mantiene mientras tecleas, hasta que se cierre. Este ultimo es especialmente útil para revisar documentación de una función mientras decide uno como utilizarla.\n",
    "\n",
    "#### Ejercicio 1: Revisa la documentación de las funciones que se listan a continuación, ya que las vamos a estar utilizando."
   ]
  },
  {
   "cell_type": "code",
   "execution_count": 2,
   "metadata": {},
   "outputs": [
    {
     "data": {
      "text/plain": [
       "<function feedforward.perdida_red>"
      ]
     },
     "execution_count": 2,
     "metadata": {},
     "output_type": "execute_result"
    }
   ],
   "source": [
    "## Revisa la documentación de cada uno de las soguientes funciones\n",
    "\n",
    "inicializa_red_neuronal\n",
    "logistica\n",
    "extendida\n",
    "feedforward\n",
    "perdida\n",
    "perdida_red"
   ]
  },
  {
   "cell_type": "markdown",
   "metadata": {
    "collapsed": true
   },
   "source": [
    "Como puedes ver las funciones anteriores (que puedes consultar en el archivo `feedforard.py`), nos permiten definir una red neuronal, estimar la salida para un conjunto de datos, así como estimar la función de pérdda con el mismo, u otro conjunto de datos.\n",
    "\n",
    "## El algortmo de *backpropagation*\n",
    "\n",
    "La derivada parcial de la función de pérdida respecto a cada uno de los pesos (por lo tanto el gradiente de la función de pérdida respecto al vector de todos los pesos) se obtiene mediante el algoritmo de backpropagarion. Una vez que se conoce esto, entonces es posible utilizar el resultado para optimizar los pesos mediente el método de descenso de gradiente o una variente similar.\n",
    "\n",
    "El algoritmo de *backpropagation* (de hecho en los últimos años se conoce como *b-prop*, y solo los rucos decimos *backpropagation*) es el siguiente:\n",
    "\n",
    "1. Calcular el vector $\\delta^{(L)}$ para todos los datos a partir de $A^{L}$, $Y$ y el tipo de salida. Si utilizamos la función de pérdida correcta para cada tipo de salida, entonces esto se calcula en forma muy sencilla, tal como vimos en clases de la forma $$\\delta^{(L)} = Y^T - A^{(L)}.$$\n",
    "\n",
    "2. Para $l$ de $L-1$ hasta 1 con decrementos de $-1$:\n",
    "    1. Calcular $\\delta^{(l)}$ a partir de $\\delta^{(l+1)}$, $W^{(l+1)}$ y $A^{(l)}$ como\n",
    "       $$\n",
    "       \\delta^{(l)} = A^{(l)} \\star (\\vec{1} - A^{(l)}) \\star (r(W^{(l+1)})^T \\delta^{(l+1)}), \n",
    "       $$\n",
    "       donde $\\star$ es la multiplicación elemento a elemento de dos matrices, $\\vec(1)$ es una matriz con 1 en todos sus elementos y $r(\\cdot)$ es una función que elimina la primer columna de una matriz.\n",
    "    2. Calcular la derivada en cada uno de los pesos como\n",
    "       $$\n",
    "       \\frac{\\partial J(W)}{w_{ij}^{(l)}} = \\frac{1}{card(CA)}\\sum_{\\forall (x,y) \\in CA} a_j^{(l-1)} \\delta_i^{(l)},\n",
    "       $$\n",
    "       para lo cual vimos como realizarlo en forma matricial y eficiente en clases.\n",
    "       \n",
    "El desarrollo del algoritmo y los pasos en forma matricial se vieron con detalle en clase, por lo que aqui solo se da un pequeñño bosquejo esperando que se programe correctamente.\n",
    "\n",
    "#### Ejercicio 1: Completa el código de la función de backpropagation (20 puntos).\n"
   ]
  },
  {
   "cell_type": "code",
   "execution_count": 3,
   "metadata": {},
   "outputs": [],
   "source": [
    "# La función `r`, cambiada como `r_fun` para evitar confuciones \n",
    "def r_fun(matriz):\n",
    "    return matriz[:, 1:]\n",
    "\n",
    "def backpropagation(Y, A, rn):\n",
    "    \"\"\"\n",
    "    Calcula el gradiente de los pesos de una red neuronal\n",
    "    \n",
    "    Parametros\n",
    "    -----------\n",
    "    Y: ndarray de shape (N, k) donde N es el número de ejemplos y k el número de salidas\n",
    "    \n",
    "    A: Una lista de matrices de activaciones por capas, obtenidas por la función `feedforward`,\n",
    "       en donde A[l] es un ndarray de shape (nl, N), donde N es el número de ejemplos evaluados \n",
    "       y nl es el número de neuronas de la capa l de rn.\n",
    "\n",
    "    rn: Estructura de datos de una red neuronal inicializada con la función \n",
    "        `inicializa_red_neuronal`\n",
    "    \n",
    "    Devuelve\n",
    "    --------\n",
    "    Una lista de gradientes [None, gW1, gW2, ..., gWL], donde cada gWl es un ndarray tal que \n",
    "    rn['W'][l].shape == gWl.shape\n",
    "             \n",
    "    \"\"\"    \n",
    "    # Numero de ejemplos\n",
    "    N = Y.shape[0]\n",
    "    \n",
    "    # Inicializa la lista de gradientes en 0\n",
    "    gradientes = [None] + [np.zeros_like(Wl) for Wl in rn['W'][1:]]\n",
    "\n",
    "    # Calcula Delta para la capa de salida\n",
    "    delta = Y.T - A[-1]\n",
    "    # if rn['tipo'] == 'softmax':\n",
    "    #     delta = delta * (A[-1] * (1 - A[-1]))\n",
    "    \n",
    "    #Calcula el gradiente de los pesos de la última capa\n",
    "    gradientes[-1] = -delta.dot(extendida(A[-2]).T) / N\n",
    "    \n",
    "    # Despues vamos a hacer lo propio por cada capa hasta antes de la última\n",
    "    for l in range(rn['capas'] - 2, 0, -1):         \n",
    "        \n",
    "        # Calcula la delta para la capa anterior.        \n",
    "        # ----------Agregar código aqui -----------------\n",
    "        delta = A[l] * (1 - A[l]) * (r_fun(rn['W'][l + 1]).T.dot(delta))\n",
    "        \n",
    "        \n",
    "        # Calcula el gradiente para los pesos de la capa anterior.        \n",
    "        # ----------Agregar código aqui -----------------\n",
    "        gradientes[l] = -delta.dot(extendida(A[l-1]).T) / N\n",
    "                \n",
    "    return gradientes\n"
   ]
  },
  {
   "cell_type": "markdown",
   "metadata": {},
   "source": [
    "## Revisar y corregir código de aprendizaje máquina\n",
    "\n",
    "El problema con este tipo de algoritmos es que, a la hora de codificarlos, es muy típico que se tengan errores, tanto de concepto como de codificación. Sin embargo, como estos algortimos se utilizan para aprender, y al utilizar un conjunto inicial de pesos aleatorio diferente, los resultados no son verificables. Es muy común tener un error muy tonto y pasar muchas horas (o días) intentando corregirlo.\n",
    "\n",
    "Por esta razón, siempre hay que hacer métodos que nos permitan chacar que el algortimo parece funcionar correctamente. Para eso, vamos a programar una forma alternativa de calcular una aproximación del gradiente en forma numérica. Este algortimo de fuerza bruta es altamente ineficiente y no puede ser utilizada dentro de un método de optimización pero nos sirve para revisar si existen errores que podríamos haber ingresado en nuestro algoritmo.\n",
    "\n",
    "El método se basa en el calculo numérico de una derivada parcial como:\n",
    "\n",
    "$$\n",
    "  \\left.\\frac{\\partial f(x)}{\\partial x}\\right|_{x = x_0} \\approx \\frac{f(x_0 + \\epsilon) - f(x_0 - \\epsilon)}{2 \\epsilon}.  \n",
    "$$\n",
    "\n",
    "Entonces, si queremos estimar el gradiente de la función de pérdida respecto a los pesos, hay que calcular esta razón por cada uno de los pesos, por cada una de las capas. Esto no es nada eficiente y mucho menos elegante (como el *b-prop*) pero es un método de validación.\n",
    "\n",
    "#### Ejercicio: Completa el código de la función de gradiente numérico."
   ]
  },
  {
   "cell_type": "code",
   "execution_count": 4,
   "metadata": {
    "collapsed": true
   },
   "outputs": [],
   "source": [
    "def gradiente_numerico(X, Y, rn, epsilon=1e-3):\n",
    "    \"\"\"\n",
    "    Calcula el gradiente numérico para efectos de prueba del algoritmo de backpropagation.\n",
    "    Este algortimo se realiza expresamente de manera ineficiente pero clara, ya que su\n",
    "    funcionamiento debe de ser lo más claro posible.\n",
    "    \n",
    "    Parámetros\n",
    "    ----------\n",
    "    X: ndarray de shape (T, n) donde T es el número de ejemplos y n el número de atributos\n",
    "    Y: ndarray de shape (T, k) donde k es el número de salidas\n",
    "    rn: Estructura de datos de una red neuronal inicializada con la función `inicializa_red_neuronal``\n",
    "    epsilon: Un número flotante positivo, típicamente muy pequeño\n",
    " \n",
    "    Devuelve\n",
    "    --------\n",
    "    Una lista de gradientes de red_neuronal['W'] con la misma estructura y dimensión\n",
    "    \n",
    "    \"\"\"\n",
    "    # inicializa los gradientes a cero\n",
    "    gradientes = [None] + [np.ones_like(Wl) for Wl in rn['W'][1:]]\n",
    "    \n",
    "    for l in range(1,rn['capas']):                #  Por cada capa l\n",
    "        for i in range(rn['W'][l].shape[0]):          #  Por cada renglon i\n",
    "            for j in range(rn['W'][l].shape[1]):      #  Por cada columna j\n",
    "                # -------------------------------------------\n",
    "                # Insertar código aquí\n",
    "                # -------------------------------------------\n",
    "                rn['W'][l][i, j] -= epsilon\n",
    "                f_1 = perdida_red(Y, X, rn)\n",
    "                rn['W'][l][i, j] += 2*epsilon\n",
    "                f_2 = perdida_red(Y, X, rn)\n",
    "                rn['W'][l][i, j] -= epsilon\n",
    "                gradientes[l][i, j] = (f_2 - f_1) / (2 * epsilon)                \n",
    "                # --------------------------------------------\n",
    "    return gradientes           \n",
    "    "
   ]
  },
  {
   "cell_type": "markdown",
   "metadata": {},
   "source": [
    "Ahora vamos a hacer una función de prueba utilizando un conjunto de datos reales (o un subconjunto de estos), y lo vamos a hacer para muchas posibles reinicializaciones de pesos. Este código va a servir para corregir ambos algoritmos de calculo de gradiente.  Para esto vamos a utilizar una base de datos ya conocida, la de dígitos, utilizada en la libreta de regresión softmax."
   ]
  },
  {
   "cell_type": "code",
   "execution_count": 5,
   "metadata": {
    "collapsed": true
   },
   "outputs": [],
   "source": [
    "# Datos a utilizar para la prueba\n",
    "# para no tener que estarlos cargando de nuevo cada vez\n",
    "\n",
    "# Vamos a utilizar un subconkunto de datos y de atributos\n",
    "# para que pueda funcionar el gradiente numérico en un tiempo \n",
    "# aceptable\n",
    "\n",
    "\n",
    "data = np.load(\"datos/digitos.npz\")\n",
    "x_prueba = data['X_entrena'][:100,:10]  # Solo 100 datos y 10 parámetros\n",
    "y_prueba = data['T_entrena'][:100,:]    # Todas las clases de los primeros 100 datos\n"
   ]
  },
  {
   "cell_type": "markdown",
   "metadata": {},
   "source": [
    "Favor de no seguir más allá en la programación de la red neuronal hasta estar seguro que esto funcione correctamente."
   ]
  },
  {
   "cell_type": "code",
   "execution_count": 8,
   "metadata": {},
   "outputs": [
    {
     "name": "stdout",
     "output_type": "stream",
     "text": [
      "Tipo: lineal, Neuronas: [10, 10, 10]\n",
      "Máxima diferencia entre métodos de gradiente: 2.5609275477359028e-05\n",
      "Tipo: lineal, Neuronas: [10, 10, 10]\n",
      "Máxima diferencia entre métodos de gradiente: 0.00011659261870392013\n",
      "Tipo: lineal, Neuronas: [10, 10, 10]\n",
      "Máxima diferencia entre métodos de gradiente: 0.00011111086809074966\n",
      "Tipo: lineal, Neuronas: [10, 10, 10]\n",
      "Máxima diferencia entre métodos de gradiente: 8.68853379648038e-05\n",
      "Tipo: lineal, Neuronas: [10, 10, 10]\n",
      "Máxima diferencia entre métodos de gradiente: 0.00013388322020710386\n",
      "Tipo: logistica, Neuronas: [10, 10, 10]\n",
      "Máxima diferencia entre métodos de gradiente: 0.00011769916596038321\n",
      "Tipo: logistica, Neuronas: [10, 10, 10]\n",
      "Máxima diferencia entre métodos de gradiente: 0.00010902242634708292\n",
      "Tipo: logistica, Neuronas: [10, 10, 10]\n",
      "Máxima diferencia entre métodos de gradiente: 9.886070040865391e-05\n",
      "Tipo: logistica, Neuronas: [10, 10, 10]\n",
      "Máxima diferencia entre métodos de gradiente: 0.0001087119640212908\n",
      "Tipo: logistica, Neuronas: [10, 10, 10]\n",
      "Máxima diferencia entre métodos de gradiente: 0.00012530771197771795\n",
      "Tipo: softmax, Neuronas: [10, 10, 10]\n",
      "Máxima diferencia entre métodos de gradiente: 0.09000000000000004\n",
      "Gradiente: \n",
      "[[-0.09       -0.05217031 -0.03996826 -0.04014108 -0.051795   -0.04141695\n",
      "  -0.04225359 -0.04094892 -0.04211061 -0.04799732 -0.04835631]\n",
      " [-0.09       -0.05280494 -0.03790402 -0.03977941 -0.05101077 -0.0402338\n",
      "  -0.03965385 -0.04125386 -0.04139891 -0.04919188 -0.04987736]\n",
      " [-0.09       -0.05291284 -0.04118012 -0.04083322 -0.05203079 -0.04223473\n",
      "  -0.04230451 -0.0414928  -0.04232723 -0.04731845 -0.04783752]\n",
      " [-0.09       -0.05430579 -0.04093063 -0.0429374  -0.05209794 -0.04228343\n",
      "  -0.04286425 -0.0420726  -0.0419618  -0.04776825 -0.04719122]\n",
      " [-0.09       -0.05244077 -0.03763449 -0.03989006 -0.05066628 -0.0406256\n",
      "  -0.04055711 -0.04092011 -0.04106986 -0.04966715 -0.04986591]\n",
      " [-0.09       -0.05165691 -0.0401603  -0.03954112 -0.05159459 -0.04118471\n",
      "  -0.04222855 -0.04066921 -0.0419291  -0.04824172 -0.04814552]\n",
      " [-0.09       -0.05157884 -0.03757731 -0.03856838 -0.05111665 -0.04017222\n",
      "  -0.04052111 -0.04048056 -0.04168511 -0.04828303 -0.05032864]\n",
      " [-0.09       -0.0523653  -0.03964105 -0.04025624 -0.05118913 -0.04145688\n",
      "  -0.04240903 -0.04085507 -0.04131897 -0.04932567 -0.04808023]\n",
      " [-0.09       -0.05176557 -0.04059975 -0.04040535 -0.0520174  -0.04188013\n",
      "  -0.04225156 -0.04122895 -0.04275943 -0.04748959 -0.04823032]\n",
      " [-0.09       -0.05102714 -0.04374717 -0.04165731 -0.05148016 -0.04454663\n",
      "  -0.0467489  -0.04068645 -0.04214757 -0.04720399 -0.04544659]]\n",
      "Gradiente Numérico: \n",
      "[[  0.00000000e+00   1.30894612e-04  -6.29286626e-05   2.47521047e-04\n",
      "   -3.03090854e-04   1.71984888e-04  -8.92582957e-05   1.05736288e-04\n",
      "   -2.48775332e-04   2.63062779e-04  -6.02846919e-07]\n",
      " [  0.00000000e+00  -4.92076117e-04   2.00452420e-03   6.36776501e-04\n",
      "    4.75829688e-04   1.37623420e-03   2.53170366e-03  -1.90801874e-04\n",
      "    4.58890518e-04  -9.32654396e-04  -1.52978359e-03]\n",
      " [  0.00000000e+00  -6.10459563e-04  -1.20306467e-03  -4.14187775e-04\n",
      "   -5.22473842e-04  -6.07014883e-04  -9.10650442e-05  -4.28455960e-04\n",
      "   -4.48345011e-04   9.16136401e-04   4.66917883e-04]\n",
      " [  0.00000000e+00  -2.01523693e-03  -9.60546499e-04  -2.53698270e-03\n",
      "   -5.99966753e-04  -6.61627461e-04  -6.48125014e-04  -1.02243206e-03\n",
      "   -9.52990836e-05   4.77446015e-04   1.11822897e-03]\n",
      " [  0.00000000e+00  -9.32561390e-05   2.35533378e-03   5.72448696e-04\n",
      "    8.55647748e-04   1.01758054e-03   1.64964532e-03   1.73287422e-04\n",
      "    8.17150967e-04  -1.44842986e-03  -1.57142160e-03]\n",
      " [  0.00000000e+00   6.45158763e-04  -2.32897765e-04   8.49334622e-04\n",
      "   -8.39441335e-05   4.05767329e-04  -7.14103419e-05   3.96820257e-04\n",
      "   -4.47700543e-05  -5.93486412e-06   2.00826862e-04]\n",
      " [  0.00000000e+00   7.32883876e-04   2.40215659e-03   1.87768173e-03\n",
      "    3.76446954e-04   1.48081159e-03   1.72760199e-03   5.84704784e-04\n",
      "    1.76615997e-04  -3.79509051e-05  -2.03699348e-03]\n",
      " [  0.00000000e+00  -4.70612930e-05   2.87440933e-04   1.66577427e-04\n",
      "    3.16539540e-04   1.52015795e-04  -2.40504071e-04   2.23746815e-04\n",
      "    5.62234651e-04  -1.08532797e-03   2.59359072e-04]\n",
      " [  0.00000000e+00   5.11467518e-04  -6.81862929e-04  -4.97781899e-05\n",
      "   -5.17703388e-04  -3.09496618e-04  -1.03306558e-04  -1.84184618e-04\n",
      "   -8.87136122e-04   7.68133320e-04   1.23314712e-04]\n",
      " [  0.00000000e+00   1.29861090e-03  -3.85247396e-03  -1.23868211e-03\n",
      "    1.06202038e-05  -2.95097088e-03  -4.59243133e-03   3.85230613e-04\n",
      "   -2.86943675e-04   1.06116529e-03   2.91180733e-03]]\n"
     ]
    },
    {
     "ename": "AssertionError",
     "evalue": "",
     "output_type": "error",
     "traceback": [
      "\u001b[0;31m---------------------------------------------------------------------------\u001b[0m",
      "\u001b[0;31mAssertionError\u001b[0m                            Traceback (most recent call last)",
      "\u001b[0;32m<ipython-input-8-e423e385ac3d>\u001b[0m in \u001b[0;36m<module>\u001b[0;34m()\u001b[0m\n\u001b[1;32m     30\u001b[0m     \u001b[0;32mreturn\u001b[0m \u001b[0;34m\"Paso la prueba\"\u001b[0m\u001b[0;34m\u001b[0m\u001b[0m\n\u001b[1;32m     31\u001b[0m \u001b[0;34m\u001b[0m\u001b[0m\n\u001b[0;32m---> 32\u001b[0;31m \u001b[0mprint\u001b[0m\u001b[0;34m(\u001b[0m\u001b[0mprueba_gradiente\u001b[0m\u001b[0;34m(\u001b[0m\u001b[0mx_prueba\u001b[0m\u001b[0;34m,\u001b[0m \u001b[0my_prueba\u001b[0m\u001b[0;34m)\u001b[0m\u001b[0;34m)\u001b[0m\u001b[0;34m\u001b[0m\u001b[0m\n\u001b[0m\u001b[1;32m     33\u001b[0m \u001b[0;34m\u001b[0m\u001b[0m\n",
      "\u001b[0;32m<ipython-input-8-e423e385ac3d>\u001b[0m in \u001b[0;36mprueba_gradiente\u001b[0;34m(X, Y)\u001b[0m\n\u001b[1;32m     27\u001b[0m                         \u001b[0mprint\u001b[0m\u001b[0;34m(\u001b[0m\u001b[0;34m'Gradiente Numérico: \\n{}'\u001b[0m\u001b[0;34m.\u001b[0m\u001b[0mformat\u001b[0m\u001b[0;34m(\u001b[0m\u001b[0mgradientes_numericos\u001b[0m\u001b[0;34m[\u001b[0m\u001b[0;34m-\u001b[0m\u001b[0;36m1\u001b[0m\u001b[0;34m]\u001b[0m\u001b[0;34m)\u001b[0m\u001b[0;34m)\u001b[0m\u001b[0;34m\u001b[0m\u001b[0m\n\u001b[1;32m     28\u001b[0m \u001b[0;34m\u001b[0m\u001b[0m\n\u001b[0;32m---> 29\u001b[0;31m                     \u001b[0;32massert\u001b[0m \u001b[0mmax\u001b[0m\u001b[0;34m(\u001b[0m\u001b[0mdiferencias\u001b[0m\u001b[0;34m)\u001b[0m \u001b[0;34m<\u001b[0m \u001b[0;36m1e-3\u001b[0m\u001b[0;34m\u001b[0m\u001b[0m\n\u001b[0m\u001b[1;32m     30\u001b[0m     \u001b[0;32mreturn\u001b[0m \u001b[0;34m\"Paso la prueba\"\u001b[0m\u001b[0;34m\u001b[0m\u001b[0m\n\u001b[1;32m     31\u001b[0m \u001b[0;34m\u001b[0m\u001b[0m\n",
      "\u001b[0;31mAssertionError\u001b[0m: "
     ]
    }
   ],
   "source": [
    "def prueba_gradiente(X, Y):\n",
    "    \"\"\"\n",
    "    Unidad de prueba de backpropagation\n",
    "    \n",
    "    \"\"\"\n",
    "    n0 = X.shape[1]\n",
    "    nL = Y.shape[1]\n",
    "    \n",
    "    for ocultas in [1, 2, 3]: \n",
    "        for neuronas in [1, 2]:\n",
    "            for tipo in ['lineal', 'logistica', 'softmax']:\n",
    "                for prueba in range(5):\n",
    "                    # print \"Tipo: \", tipo, \", capas ocultas: \", ocultas, \", neuronas en capas ocultas: \", neuronas * n0\n",
    "                    rn = inicializa_red_neuronal(ocultas + 2, \n",
    "                                                 [n0] + (ocultas * [neuronas * n0]) + [nL],\n",
    "                                                 tipo)\n",
    "                    A = feedforward(X, rn)\n",
    "                    gradientes = backpropagation(Y, A, rn)\n",
    "                    gradientes_numericos = gradiente_numerico(X, Y, rn, 1e-1)\n",
    "                    diferencias = [np.abs(g - gn).max() \n",
    "                                   for (g, gn) in zip(gradientes[1:], \n",
    "                                                      gradientes_numericos[1:])]\n",
    "                    print(\"Tipo: {}, Neuronas: {}\".format(rn['tipo'], rn['nxc']))\n",
    "                    print(\"Máxima diferencia entre métodos de gradiente: {}\".format(max(diferencias)))\n",
    "                    if max(diferencias) > 1e-3:\n",
    "                        print('Gradiente: \\n{}'.format(gradientes[-1]))\n",
    "                        print('Gradiente Numérico: \\n{}'.format(gradientes_numericos[-1]))\n",
    "\n",
    "                    assert max(diferencias) < 1e-3\n",
    "    return \"Paso la prueba\"\n",
    "\n",
    "print(prueba_gradiente(x_prueba, y_prueba))\n",
    "\n"
   ]
  }
 ],
 "metadata": {
  "kernelspec": {
   "display_name": "Python 3",
   "language": "python",
   "name": "python3"
  },
  "language_info": {
   "codemirror_mode": {
    "name": "ipython",
    "version": 3
   },
   "file_extension": ".py",
   "mimetype": "text/x-python",
   "name": "python",
   "nbconvert_exporter": "python",
   "pygments_lexer": "ipython3",
   "version": "3.6.1"
  }
 },
 "nbformat": 4,
 "nbformat_minor": 2
}
